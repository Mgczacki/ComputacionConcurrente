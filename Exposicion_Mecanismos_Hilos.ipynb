{
  "nbformat": 4,
  "nbformat_minor": 0,
  "metadata": {
    "colab": {
      "name": "Exposicion Mecanismos Hilos",
      "provenance": []
    },
    "kernelspec": {
      "name": "python3",
      "display_name": "Python 3"
    }
  },
  "cells": [
    {
      "cell_type": "code",
      "metadata": {
        "id": "owlG63U71kUM",
        "colab_type": "code",
        "outputId": "1644ef90-ebbc-45ba-8c26-c2eb5e6ca98d",
        "colab": {
          "base_uri": "https://localhost:8080/",
          "height": 53
        }
      },
      "source": [
        "import threading\n",
        "\n",
        "def countdown():\n",
        "     x = 1000000000\n",
        "     while x > 0:\n",
        "           x -= 1\n",
        "# Implementation 1: Multi-threading\n",
        "def implementation_1():\n",
        "    thread_1 = threading.Thread(target=countdown)\n",
        "    thread_2 = threading.Thread(target=countdown)\n",
        "    thread_1.start()\n",
        "    thread_2.start()\n",
        "    thread_1.join()\n",
        "    thread_2.join()\n",
        "    return 'Termina Concurrente.'\n",
        "# Implementation 2: Run in serial\n",
        "def implementation_2():\n",
        "    countdown()\n",
        "    countdown()\n",
        "    return 'Termina Serial.'\n",
        "%timeit implementation_1()\n",
        "%timeit implementation_2()"
      ],
      "execution_count": 0,
      "outputs": [
        {
          "output_type": "stream",
          "text": [
            "1 loop, best of 3: 1min 34s per loop\n",
            "1 loop, best of 3: 1min 33s per loop\n"
          ],
          "name": "stdout"
        }
      ]
    },
    {
      "cell_type": "markdown",
      "metadata": {
        "id": "w7KyyyYgXJVs",
        "colab_type": "text"
      },
      "source": [
        "### Lock"
      ]
    },
    {
      "cell_type": "code",
      "metadata": {
        "id": "s2iyiX4h9DdP",
        "colab_type": "code",
        "colab": {}
      },
      "source": [
        "import threading\n",
        "import time\n",
        "import random\n",
        "import sys\n",
        "\n",
        "#Thread-safe print\n",
        "def sprint(s):\n",
        "  sys.stdout.write(s + '\\n')"
      ],
      "execution_count": 0,
      "outputs": []
    },
    {
      "cell_type": "code",
      "metadata": {
        "id": "4iYkF2XGWAm0",
        "colab_type": "code",
        "outputId": "c3c531a1-7335-43c2-ddc4-de21f0dccc61",
        "colab": {
          "base_uri": "https://localhost:8080/",
          "height": 1000
        }
      },
      "source": [
        "#Clase contador\n",
        "class Contador(object):\n",
        "    def __init__(self, inicio = 0):\n",
        "        self.lock = threading.Lock()\n",
        "        self.value = inicio\n",
        "    def incremento(self):\n",
        "        sprint('Esperando por el lock')\n",
        "        self.lock.acquire()\n",
        "        try:\n",
        "            sprint('Adquiero lock')\n",
        "            self.value = self.value + 1\n",
        "        finally:\n",
        "            sprint('Libero lock')\n",
        "            self.lock.release()\n",
        "#Trabajador realizará tres veces: Dormir un poco y añadir uno al contador.\n",
        "def trabajador(c):\n",
        "    for i in range(3):\n",
        "        r = random.random()\n",
        "        sprint('Durmiendo ' + str(r))\n",
        "        time.sleep(r)\n",
        "        c.incremento()\n",
        "    sprint('Listo')\n",
        "\n",
        "if __name__ == '__main__':\n",
        "    c = Contador()\n",
        "    trabajadores = []\n",
        "    for i in range(7):\n",
        "        t = threading.Thread(target=trabajador, args=(c,))\n",
        "        t.start()\n",
        "        trabajadores.append(t)\n",
        "\n",
        "    sprint('Esperando fin de trabajadores')\n",
        "    for t in trabajadores:\n",
        "      t.join()\n",
        "    sprint('Contador: ' + str(c.value))"
      ],
      "execution_count": 0,
      "outputs": [
        {
          "output_type": "stream",
          "text": [
            "Durmiendo 0.8838449923062042\n",
            "Durmiendo 0.9116178702030304\n",
            "Durmiendo 0.6775452400507962\n",
            "Durmiendo 0.053673961637487944\n",
            "Durmiendo 0.6388850361720625\n",
            "Durmiendo 0.7122106928960777\n",
            "Durmiendo 0.22267129703136468\n",
            "Esperando fin de trabajadores\n",
            "Esperando por el lock\n",
            "Adquiero lock\n",
            "Libero lock\n",
            "Durmiendo 0.8368767176859873\n",
            "Esperando por el lock\n",
            "Adquiero lock\n",
            "Libero lock\n",
            "Durmiendo 0.5638118046283883\n",
            "Esperando por el lock\n",
            "Adquiero lock\n",
            "Libero lock\n",
            "Durmiendo 0.7313007954806807\n",
            "Esperando por el lock\n",
            "Adquiero lock\n",
            "Libero lock\n",
            "Durmiendo 0.5603335984423097\n",
            "Esperando por el lock\n",
            "Adquiero lock\n",
            "Libero lock\n",
            "Durmiendo 0.7614876926405268\n",
            "Esperando por el lock\n",
            "Adquiero lock\n",
            "Libero lock\n",
            "Durmiendo 0.02527937365700683\n",
            "Esperando por el lock\n",
            "Adquiero lock\n",
            "Libero lock\n",
            "Listo\n",
            "Esperando por el lock\n",
            "Adquiero lock\n",
            "Libero lock\n",
            "Durmiendo 0.54406855515713\n",
            "Esperando por el lock\n",
            "Adquiero lock\n",
            "Libero lock\n",
            "Durmiendo 0.5977720364574451\n",
            "Esperando por el lock\n",
            "Adquiero lock\n",
            "Libero lock\n",
            "Durmiendo 0.7842432298071972\n",
            "Esperando por el lock\n",
            "Adquiero lock\n",
            "Libero lock\n",
            "Durmiendo 0.5008926998307205\n",
            "Esperando por el lock\n",
            "Adquiero lock\n",
            "Libero lock\n",
            "Durmiendo 0.8200087819634851\n",
            "Esperando por el lock\n",
            "Adquiero lock\n",
            "Libero lock\n",
            "Durmiendo 0.4664849718751142\n",
            "Esperando por el lock\n",
            "Adquiero lock\n",
            "Libero lock\n",
            "Durmiendo 0.32815877016341366\n",
            "Esperando por el lock\n",
            "Adquiero lock\n",
            "Libero lock\n",
            "Listo\n",
            "Esperando por el lock\n",
            "Adquiero lock\n",
            "Libero lock\n",
            "Durmiendo 0.39355506103760296\n",
            "Esperando por el lock\n",
            "Adquiero lock\n",
            "Libero lock\n",
            "Listo\n",
            "Esperando por el lock\n",
            "Adquiero lock\n",
            "Libero lock\n",
            "Listo\n",
            "Esperando por el lock\n",
            "Adquiero lock\n",
            "Libero lock\n",
            "Listo\n",
            "Esperando por el lock\n",
            "Adquiero lock\n",
            "Libero lock\n",
            "Listo\n",
            "Esperando por el lock\n",
            "Adquiero lock\n",
            "Libero lock\n",
            "Contador: 21\n",
            "Listo\n"
          ],
          "name": "stdout"
        }
      ]
    },
    {
      "cell_type": "markdown",
      "metadata": {
        "id": "KlFoVtcnYdyK",
        "colab_type": "text"
      },
      "source": [
        "Una vez adquirido, el Lock previene la entrada a la sección crítica hasta que se libere.\n",
        "\n",
        "\n",
        "Aunque es una solución buena, tiene sus potenciales problemas.\n",
        "Veamos un ejemplo:"
      ]
    },
    {
      "cell_type": "code",
      "metadata": {
        "id": "tbqgCzUsbFaJ",
        "colab_type": "code",
        "colab": {}
      },
      "source": [
        "class Suma(object):\n",
        "    def __init__(self,a,b):\n",
        "      self.lock = threading.Lock()\n",
        "      self.a = a\n",
        "      self.b = b\n",
        "      self.resultado = 0\n",
        "    def establecerValor(self):\n",
        "      self.lock.acquire()\n",
        "      sprint('Esperando por el lock')\n",
        "      try:\n",
        "        sprint('Adquiero lock')\n",
        "        v1 = self.getA()\n",
        "        v2 = self.getB()\n",
        "        self.resultado = v1+v2\n",
        "      finally:\n",
        "        sprint('Libero lock')\n",
        "        self.lock.release()\n",
        "    def getA(self):\n",
        "      self.lock.acquire()\n",
        "      sprint('Esperando por el lock')\n",
        "      valor = None\n",
        "      try:\n",
        "        sprint('Adquiero lock')\n",
        "        valor = a\n",
        "      finally:\n",
        "        sprint('Libero lock')\n",
        "        self.lock.release()\n",
        "      return valor\n",
        "    def getB(self):\n",
        "      self.lock.acquire()\n",
        "      sprint('Esperando por el lock')\n",
        "      valor = None\n",
        "      try:\n",
        "        sprint('Adquiero lock')\n",
        "        valor = b\n",
        "      finally:\n",
        "        sprint('Libero lock')\n",
        "        self.lock.release()\n",
        "      return valor\n",
        "  \n",
        "s = Suma(12,13)\n",
        "s.establecerValor()\n",
        "print(s.resultado)"
      ],
      "execution_count": 0,
      "outputs": []
    },
    {
      "cell_type": "markdown",
      "metadata": {
        "id": "DcgQEcs8fQiI",
        "colab_type": "text"
      },
      "source": [
        "Como se puede ver, este código no puede finalizar. La solución se encuentra en utilizar un **RLock**.\n"
      ]
    },
    {
      "cell_type": "code",
      "metadata": {
        "id": "KRiZ4FTFfYj6",
        "colab_type": "code",
        "colab": {}
      },
      "source": [
        "class Suma2(object):\n",
        "    def __init__(self,a,b):\n",
        "      self.lock = threading.RLock()\n",
        "      self.a = a\n",
        "      self.b = b\n",
        "      self.resultado = 0\n",
        "    def establecerValor(self):\n",
        "      self.lock.acquire()\n",
        "      sprint('Esperando por el lock')\n",
        "      try:\n",
        "        sprint('Adquiero lock')\n",
        "        v1 = self.getA()\n",
        "        v2 = self.getB()\n",
        "        self.resultado = v1+v2\n",
        "      finally:\n",
        "        sprint('Libero lock')\n",
        "        self.lock.release()\n",
        "    def getA(self):\n",
        "      self.lock.acquire()\n",
        "      sprint('Esperando por el lock')\n",
        "      valor = None\n",
        "      try:\n",
        "        sprint('Adquiero lock')\n",
        "        valor = self.a\n",
        "      finally:\n",
        "        sprint('Libero lock')\n",
        "        self.lock.release()\n",
        "      return valor\n",
        "    def getB(self):\n",
        "      self.lock.acquire()\n",
        "      sprint('Esperando por el lock')\n",
        "      valor = None\n",
        "      try:\n",
        "        sprint('Adquiero lock')\n",
        "        valor = self.b\n",
        "      finally:\n",
        "        sprint('Libero lock')\n",
        "        self.lock.release()\n",
        "      return valor\n",
        "  \n",
        "s = Suma2(12,13)\n",
        "s.establecerValor()\n",
        "print(s.resultado)"
      ],
      "execution_count": 0,
      "outputs": []
    },
    {
      "cell_type": "markdown",
      "metadata": {
        "id": "My7DncOdfl2T",
        "colab_type": "text"
      },
      "source": [
        "El RLock previene solo a otros hilos a entrar al área crítica. Si es el mismo hilo, no existe problema."
      ]
    },
    {
      "cell_type": "markdown",
      "metadata": {
        "id": "5et09JfFgNL4",
        "colab_type": "text"
      },
      "source": [
        "**Semáforos**\n",
        "\n",
        "\n",
        "Un semáforo se puede implementar con Semaphore y BoundedSempahore. Ambos son iguales pero si se intentan liberar recursos inexistentes, BoundedSemaphore te lo hará saber."
      ]
    },
    {
      "cell_type": "code",
      "metadata": {
        "id": "q_d-9SKkfk-3",
        "colab_type": "code",
        "outputId": "14387de7-e9e3-401c-d5ab-b4dfbe7092cf",
        "colab": {
          "base_uri": "https://localhost:8080/",
          "height": 303
        }
      },
      "source": [
        "from threading import BoundedSemaphore\n",
        "from threading import Thread\n",
        "\n",
        "sprint(\"Bienvenidos a McMario's\")\n",
        "\n",
        "max_items = 10\n",
        "container = BoundedSemaphore(max_items)\n",
        "\n",
        "def producer(nloops):\n",
        "    for i in range(nloops):\n",
        "        time.sleep(random.randrange(1, 3))\n",
        "        try:\n",
        "            container.release()\n",
        "            sprint(\"Se cocinó una MarioBurguesa.\")\n",
        "        except ValueError:\n",
        "            sprint(\"[ERROR] El buffer está lleno. No se ha comido nada. :(\")\n",
        "\n",
        "def consumer(nloops):\n",
        "    for i in range(nloops):\n",
        "        time.sleep(random.randrange(2, 5))\n",
        "        if container.acquire(False):\n",
        "            sprint(\"Se comió una MarioBurguesa.\")\n",
        "        else:\n",
        "            sprint(\"[ERROR] El buffer está vacío. La gente es adicta a las MarioBurguesas.\")\n",
        "\n",
        "threads = []\n",
        "ploops = random.randrange(3, 6)\n",
        "cloops = random.randrange(ploops, ploops+max_items+2)\n",
        "\n",
        "sprint(\"Tamanio en almacén : \" + str(max_items))\n",
        "sprint(\"Numero de ciclos del cocinero: \" + str(ploops))\n",
        "sprint(\"Numero de visitas del comensal: \" + str(cloops))\n",
        "\n",
        "threads.append(Thread(target=producer, args=(ploops,)))\n",
        "threads.append(Thread(target=consumer, args=(cloops,)))\n",
        "\n",
        "for thread in threads:\n",
        "    thread.start()\n",
        "for thread in threads:\n",
        "    thread.join()\n",
        "\n",
        "sprint(\"Servidos y Contentos.\")"
      ],
      "execution_count": 0,
      "outputs": [
        {
          "output_type": "stream",
          "text": [
            "Bienvenidos a McMario's\n",
            "Tamanio en almacén : 10\n",
            "Numero de ciclos del cocinero: 3\n",
            "Numero de visitas del comensal: 8\n",
            "[ERROR] El buffer está lleno. No se ha comido nada. :(\n",
            "Se comió una MarioBurguesa.\n",
            "Se cocinó una MarioBurguesa.\n",
            "Se comió una MarioBurguesa.\n",
            "Se cocinó una MarioBurguesa.\n",
            "Se comió una MarioBurguesa.\n",
            "Se comió una MarioBurguesa.\n",
            "Se comió una MarioBurguesa.\n",
            "Se comió una MarioBurguesa.\n",
            "Se comió una MarioBurguesa.\n",
            "Se comió una MarioBurguesa.\n",
            "Servidos y Contentos.\n"
          ],
          "name": "stdout"
        }
      ]
    },
    {
      "cell_type": "markdown",
      "metadata": {
        "id": "8kkjo-NvqRHi",
        "colab_type": "text"
      },
      "source": [
        "Event\n",
        "\n",
        "El objeto método, es la forma de comunicación más sencilla entre hilos. Event actua como una bandera que intercomunica hilos."
      ]
    },
    {
      "cell_type": "code",
      "metadata": {
        "id": "IZFwfdTb70s9",
        "colab_type": "code",
        "colab": {}
      },
      "source": [
        "import threading\n",
        "from threading import Event\n",
        "import time\n",
        "\n",
        "#Clase Reloj\n",
        "class Reloj(threading.Thread):\n",
        "  \n",
        "    def __init__(self):\n",
        "        threading.Thread.__init__(self)\n",
        "        self.event = Event()\n",
        "        self.segundo = 0\n",
        "\n",
        "    def run(self):\n",
        "        while self.event.is_set():\n",
        "            print (\"ID: \",threading.get_ident(),\" Numero: \",self.segundo)\n",
        "            self.segundo += 1\n",
        "            time.sleep(0.1)"
      ],
      "execution_count": 0,
      "outputs": []
    },
    {
      "cell_type": "code",
      "metadata": {
        "id": "vt7aZDRbh5ZW",
        "colab_type": "code",
        "outputId": "80a7b9ad-f748-445a-b2b9-448c0fe0a3eb",
        "colab": {
          "base_uri": "https://localhost:8080/",
          "height": 35
        }
      },
      "source": [
        "hilo1 = Reloj()\n",
        "hilo1.event.set()\n",
        "\n",
        "hilo1.start()\n",
        "\n"
      ],
      "execution_count": 0,
      "outputs": [
        {
          "output_type": "stream",
          "text": [
            "ID:  139737380988672  Numero:  0\n"
          ],
          "name": "stdout"
        }
      ]
    },
    {
      "cell_type": "code",
      "metadata": {
        "id": "C6XcJFJ3j2X_",
        "colab_type": "code",
        "outputId": "174b842a-f705-4898-f517-3d3b95faad62",
        "colab": {
          "base_uri": "https://localhost:8080/",
          "height": 53
        }
      },
      "source": [
        "hilo1.event.clear()"
      ],
      "execution_count": 0,
      "outputs": [
        {
          "output_type": "stream",
          "text": [
            "ID:  139737380988672  Numero:  744\n",
            "ID:  139737380988672  Numero:  745\n"
          ],
          "name": "stdout"
        }
      ]
    },
    {
      "cell_type": "code",
      "metadata": {
        "id": "6pwAtAm6j_0V",
        "colab_type": "code",
        "outputId": "0fd18b7e-e926-4009-c081-a24a5e10c820",
        "colab": {
          "base_uri": "https://localhost:8080/",
          "height": 35
        }
      },
      "source": [
        "print(\"Hola\")"
      ],
      "execution_count": 0,
      "outputs": [
        {
          "output_type": "stream",
          "text": [
            "Hola\n"
          ],
          "name": "stdout"
        }
      ]
    },
    {
      "cell_type": "code",
      "metadata": {
        "id": "kZGqj0i0omjj",
        "colab_type": "code",
        "colab": {}
      },
      "source": [
        ""
      ],
      "execution_count": 0,
      "outputs": []
    }
  ]
}