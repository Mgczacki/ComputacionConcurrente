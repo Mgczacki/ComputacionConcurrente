{
 "cells": [
  {
   "cell_type": "code",
   "execution_count": 1,
   "metadata": {},
   "outputs": [],
   "source": [
    "#from __future__ import print_function\n",
    "import multiprocessing as mp\n",
    "import random\n",
    "import time\n",
    "\n",
    "#_print = print\n",
    "#_rlock = mp.Lock()\n",
    "#def print(*args, **kwargs):\n",
    "#    with _rlock:\n",
    "#        _print(*args, **kwargs)\n"
   ]
  },
  {
   "cell_type": "code",
   "execution_count": null,
   "metadata": {},
   "outputs": [
    {
     "name": "stdout",
     "output_type": "stream",
     "text": [
      "Producido item 61\n",
      "Consumidor va a dormir.\n",
      "1\n",
      "Consumidor despierta.\n",
      "Producido item 76\n",
      "2\n",
      "Producido item 89\n",
      "3\n",
      "Producido item 55\n",
      "4\n",
      "Producido item 59\n",
      "5\n",
      "Producido item 39\n",
      "6\n",
      "Producido item 37\n",
      "7\n",
      "Producido item 73\n",
      "8\n",
      "Producido item 27\n",
      "Productor va a dormir.\n"
     ]
    }
   ],
   "source": [
    "BUFFER_SIZE = 8\n",
    "Buffer = mp.Queue()\n",
    "itemCount = mp.Value('i',0)\n",
    "state_p = mp.Value('i',1)\n",
    "state_c = mp.Value('i',1)\n",
    "\n",
    "def produceItem():\n",
    "    i = random.randint(1,101)\n",
    "    print(\"Producido item \"+str(i))\n",
    "    return i\n",
    "def putItemIntoBuffer(item):\n",
    "    Buffer.put(item)\n",
    "def removeItemFromBuffer():\n",
    "    return Buffer.get()\n",
    "def wakeup(sleeper_state):\n",
    "    sleeper_state = 1\n",
    "def sleep(sleeper_state):\n",
    "    sleeper_state = 0\n",
    "    while(sleeper_state == 0):\n",
    "        \"I sleep\"\n",
    "def consumeItem(item):\n",
    "    print(\"Consumo el item \"+str(item))\n",
    "def producer(Buffer,itemCount,BUFFER_SIZE,state_p,state_c):\n",
    "    while (True):\n",
    "        item = produceItem()\n",
    "        if (itemCount.value == BUFFER_SIZE):\n",
    "            print(\"Productor va a dormir.\")\n",
    "            sleep(state_p);\n",
    "        putItemIntoBuffer(item)\n",
    "        itemCount.value = itemCount.value + 1\n",
    "        print(str(itemCount.value))\n",
    "        if (itemCount.value == 1): \"\"\">= Sino el consumidor puede despertar antes de dormir, y luego no despertar.\"\"\"\n",
    "            wakeup(state_c)\n",
    "            print(\"Consumidor despierta.\")\n",
    "        time.sleep(0.01)\n",
    "def consumer(Buffer,itemCount,BUFFER_SIZE,state_p,state_c):\n",
    "    while (True):\n",
    "        if (itemCount.value == 0):\n",
    "            print(\"Consumidor va a dormir.\")\n",
    "            sleep(state_c);\n",
    "        item = removeItemFromBuffer()\n",
    "        itemCount.value = itemCount.value - 1\n",
    "        print(str(itemCount.value))\n",
    "        if (itemCount.value == BUFFER_SIZE - 1):\"\"\"Debe ser <= sino puede que se pase y luego duerma igual que arriba.\"\"\"\n",
    "            wakeup(state_p)\n",
    "            print(\"Productor despierta.\")\n",
    "        consumeItem(item)\n",
    "        time.sleep(0.2)\n",
    "if __name__ == \"__main__\":\n",
    "    prod = mp.Process(target=producer, args=(Buffer,itemCount,BUFFER_SIZE,state_p,state_c,))\n",
    "    cons = mp.Process(target=consumer, args=(Buffer,itemCount,BUFFER_SIZE,state_p,state_c,))\n",
    "    prod.start()\n",
    "    cons.start()\n",
    "    prod.join()\n",
    "    cons.join()"
   ]
  },
  {
   "cell_type": "code",
   "execution_count": null,
   "metadata": {},
   "outputs": [],
   "source": []
  }
 ],
 "metadata": {
  "kernelspec": {
   "display_name": "Python 3",
   "language": "python",
   "name": "python3"
  },
  "language_info": {
   "codemirror_mode": {
    "name": "ipython",
    "version": 3
   },
   "file_extension": ".py",
   "mimetype": "text/x-python",
   "name": "python",
   "nbconvert_exporter": "python",
   "pygments_lexer": "ipython3",
   "version": "3.7.4"
  }
 },
 "nbformat": 4,
 "nbformat_minor": 2
}
