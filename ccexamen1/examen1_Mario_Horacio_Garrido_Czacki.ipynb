{
 "cells": [
  {
   "cell_type": "code",
   "execution_count": 1,
   "metadata": {},
   "outputs": [],
   "source": [
    "import multiprocessing as mp\n",
    "import time"
   ]
  },
  {
   "cell_type": "code",
   "execution_count": 61,
   "metadata": {},
   "outputs": [
    {
     "name": "stdout",
     "output_type": "stream",
     "text": [
      "aaaaaaaaaaaaaaaaaaaaaccccccccccccccccbbbbbbbbbbbbbbbbbbbbbbbbbbbbbbbbbbbbbb"
     ]
    }
   ],
   "source": [
    "#Programa 1\n",
    "def hijo_p1(n,s):\n",
    "    print(n*s, end = '')\n",
    "if __name__ == \"__main__\":\n",
    "    h1 = mp.Process(target=hijo_p1,args=(21,\"a\",))\n",
    "    h2 = mp.Process(target=hijo_p1,args=(38,\"b\",))\n",
    "    h3 = mp.Process(target=hijo_p1,args=(16,\"c\",))\n",
    "    h1.start()\n",
    "    h2.start()\n",
    "    h3.start()\n",
    "    h1.join()\n",
    "    h2.join()\n",
    "    h3.join()"
   ]
  },
  {
   "cell_type": "code",
   "execution_count": 62,
   "metadata": {},
   "outputs": [
    {
     "name": "stdout",
     "output_type": "stream",
     "text": [
      "aaaaaaaaaaaaaaaaaaaaabbbbbbbbbbccccccccccccccccccccccccccccccccccccccccc"
     ]
    }
   ],
   "source": [
    "#Programa 2\n",
    "def hijo_p2(n,s,i,turno):\n",
    "    while (i != turno.value):\n",
    "        i\n",
    "        #Busy wait\n",
    "    #Inicia seccion critica\n",
    "    print(n*s,end = '')\n",
    "    time.sleep(.5)\n",
    "    #Fin seccion critica\n",
    "    turno.value += 1\n",
    "if __name__==\"__main__\":\n",
    "    turno = mp.Value('i', 1)\n",
    "    h2 = mp.Process(target=hijo_p2,args=(10,\"b\",2,turno))\n",
    "    h3 = mp.Process(target=hijo_p2,args=(41,\"c\",3,turno))\n",
    "    h1 = mp.Process(target=hijo_p2,args=(21,\"a\",1,turno))\n",
    "    h3.start()\n",
    "    h2.start()\n",
    "    h1.start()\n",
    "    h3.join()\n",
    "    h1.join()\n",
    "    h2.join()"
   ]
  },
  {
   "cell_type": "code",
   "execution_count": 63,
   "metadata": {},
   "outputs": [
    {
     "name": "stdout",
     "output_type": "stream",
     "text": [
      "bbbbbbbbbbcccccccccccccccccccccccccccccccccccccccccaaaaaaaaaaaaaaaaaaaaa"
     ]
    }
   ],
   "source": [
    "#Programa 3\n",
    "def hijo_p3(n,s,i,tiempo,orden):\n",
    "    while (i != orden[tiempo.value]):\n",
    "        i\n",
    "        #Busy wait\n",
    "    #Inicia seccion critica\n",
    "    print(n*s,end = '')\n",
    "    time.sleep(.5)\n",
    "    #Fin seccion critica\n",
    "    tiempo.value += 1\n",
    "if __name__==\"__main__\":\n",
    "    lista_orden = [2,3,1]\n",
    "    tiempo = mp.Value('i', 0)\n",
    "    orden = mp.Array('i', lista_orden)\n",
    "    h1 = mp.Process(target=hijo_p3,args=(21,\"a\",1,tiempo,orden))\n",
    "    h2 = mp.Process(target=hijo_p3,args=(10,\"b\",2,tiempo,orden))\n",
    "    h3 = mp.Process(target=hijo_p3,args=(41,\"c\",3,tiempo,orden))\n",
    "    h3.start()\n",
    "    h2.start()\n",
    "    h1.start()\n",
    "    h3.join()\n",
    "    h1.join()\n",
    "    h2.join()"
   ]
  },
  {
   "cell_type": "code",
   "execution_count": null,
   "metadata": {},
   "outputs": [],
   "source": []
  }
 ],
 "metadata": {
  "kernelspec": {
   "display_name": "Python 3",
   "language": "python",
   "name": "python3"
  },
  "language_info": {
   "codemirror_mode": {
    "name": "ipython",
    "version": 3
   },
   "file_extension": ".py",
   "mimetype": "text/x-python",
   "name": "python",
   "nbconvert_exporter": "python",
   "pygments_lexer": "ipython3",
   "version": "3.7.4"
  }
 },
 "nbformat": 4,
 "nbformat_minor": 2
}
