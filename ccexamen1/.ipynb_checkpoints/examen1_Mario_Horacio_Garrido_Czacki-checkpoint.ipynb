{
 "cells": [
  {
   "cell_type": "code",
   "execution_count": 8,
   "metadata": {},
   "outputs": [],
   "source": [
    "import multiprocessing as mp\n",
    "import time\n",
    "import random"
   ]
  },
  {
   "cell_type": "code",
   "execution_count": 9,
   "metadata": {},
   "outputs": [
    {
     "name": "stdout",
     "output_type": "stream",
     "text": [
      "aaaaaaaaaaaaaaaaaaaaaccccccccccccccccbbbbbbbbbbbbbbbbbbbbbbbbbbbbbbbbbbbbbb"
     ]
    }
   ],
   "source": [
    "#Programa 1\n",
    "\n",
    "#Definición de la función hijo.\n",
    "#Toma un caractér o cadena \"s\" y la imprime \"n\" veces sin saltar de línea.\n",
    "def hijo_p1(n,s):\n",
    "    print(n*s, end = '')\n",
    "#Se generan y llaman tres hijos que imprimirán los caractéres pasados una cierta cantidad de veces.\n",
    "if __name__ == \"__main__\":\n",
    "    h1 = mp.Process(target=hijo_p1,args=(21,\"a\",))\n",
    "    h2 = mp.Process(target=hijo_p1,args=(38,\"b\",))\n",
    "    h3 = mp.Process(target=hijo_p1,args=(16,\"c\",))\n",
    "    h1.start()\n",
    "    h2.start()\n",
    "    h3.start()\n",
    "    h1.join()\n",
    "    h2.join()\n",
    "    h3.join()"
   ]
  },
  {
   "cell_type": "code",
   "execution_count": 10,
   "metadata": {},
   "outputs": [
    {
     "name": "stdout",
     "output_type": "stream",
     "text": [
      "aaaaaaaaaaaaaaaaaaaaabbbbbbbbbbccccccccccccccccccccccccccccccccccccccccc"
     ]
    }
   ],
   "source": [
    "#Programa 2\n",
    "\n",
    "def hijo_p2(n,s,i,turno):\n",
    "    #Este ciclo permite que el proceso espere su turno\n",
    "    while (i != turno.value):\n",
    "        i#Mientras tanto se encuentra en espera\n",
    "    #Inicia seccion critica\n",
    "    print(n*s,end = '')\n",
    "    #print tiene un delay a veces, por lo que el resultado puede resultar poco claro.\n",
    "    #Este sleep ayuda a mostrar claramente el proceso seguido.\n",
    "    time.sleep(.5)\n",
    "    #Fin seccion critica\n",
    "    #Se permite pasar al proceso siguiente.\n",
    "    turno.value += 1\n",
    "#Se generan y llaman tres hijos que imprimirán los caractéres pasados una cierta cantidad de veces.\n",
    "if __name__==\"__main__\":\n",
    "    turno = mp.Value('i', 1)\n",
    "    h2 = mp.Process(target=hijo_p2,args=(10,\"b\",2,turno))\n",
    "    h3 = mp.Process(target=hijo_p2,args=(41,\"c\",3,turno))\n",
    "    h1 = mp.Process(target=hijo_p2,args=(21,\"a\",1,turno))\n",
    "    h3.start()\n",
    "    h2.start()\n",
    "    h1.start()\n",
    "    h3.join()\n",
    "    h1.join()\n",
    "    h2.join()"
   ]
  },
  {
   "cell_type": "code",
   "execution_count": 12,
   "metadata": {},
   "outputs": [
    {
     "name": "stdout",
     "output_type": "stream",
     "text": [
      "s2s2s2s2s2s2s2s2s2s2s2s2s2s2s1s1s1s1s1s1s1s1s3s3s3s3s3s3s3s3s3s3s3s3s3s6s6s6s6s5s5s5s5s5s5s5s5s5s5s5s5s5s5s5s5s5s5s5s5s5s5s4s4s4s4s4s4s4s4s4s4"
     ]
    }
   ],
   "source": [
    "#Programa 3\n",
    "\n",
    "#Definición del hijo para el programa 3\n",
    "def hijo_p3(n,s,i,tiempo,orden):\n",
    "    #Espera a que sea su turno\n",
    "    while (i != orden[tiempo.value]):\n",
    "        i #Mientras tanto se encuentra en espera\n",
    "    #Cuando sale del while, ya es su turno\n",
    "    #Inicia seccion critica\n",
    "    print(n*s,end = '')\n",
    "    time.sleep(.5)\n",
    "    #Fin seccion critica\n",
    "    tiempo.value += 1\n",
    "    #Permite que el siguiente proceso entre a su sección crítica\n",
    "if __name__==\"__main__\":\n",
    "    #Lista que tiene la política de orden de los procesos.\n",
    "    lista_orden = [2,1,3,6,5,4]\n",
    "    #SHARED: El \"tiempo\" en el que se encuentra. Es decir, el índice de lista_orden\n",
    "    tiempo = mp.Value('i', 0)\n",
    "    #SHARED: Se vuelve arreglo compartido\n",
    "    orden = mp.Array('i', lista_orden)\n",
    "    #Lista que contendrá a los procesos, en este programa se autogeneran.\n",
    "    procesos = []\n",
    "    #Este ciclo genera cada proceso para que imprima su cadena. Se imprimen las \"s\" para aclarar que es\n",
    "    #el proceso que escribe. Las veces a imprimir se generan aleatoriamente. Automáticamente se añade\n",
    "    #cada proceso generado a la lista de procesos después de iniciarlo.\n",
    "    for i in range(1,len(lista_orden)+1):\n",
    "        p = mp.Process(target=hijo_p3,args=(random.randint(1,30),\"s\"+str(i),i,tiempo,orden))\n",
    "        p.start()\n",
    "        procesos.append(p)\n",
    "    #Una vez iniciados todos los procesos, se cierran espera a todos los anteriores antes de finalizar.\n",
    "    for p in procesos:\n",
    "        p.join()"
   ]
  },
  {
   "cell_type": "code",
   "execution_count": null,
   "metadata": {},
   "outputs": [],
   "source": []
  }
 ],
 "metadata": {
  "kernelspec": {
   "display_name": "Python 3",
   "language": "python",
   "name": "python3"
  },
  "language_info": {
   "codemirror_mode": {
    "name": "ipython",
    "version": 3
   },
   "file_extension": ".py",
   "mimetype": "text/x-python",
   "name": "python",
   "nbconvert_exporter": "python",
   "pygments_lexer": "ipython3",
   "version": "3.7.4"
  }
 },
 "nbformat": 4,
 "nbformat_minor": 2
}
